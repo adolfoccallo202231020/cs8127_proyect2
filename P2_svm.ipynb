{
  "nbformat": 4,
  "nbformat_minor": 0,
  "metadata": {
    "colab": {
      "provenance": []
    },
    "kernelspec": {
      "name": "python3",
      "display_name": "Python 3"
    },
    "language_info": {
      "name": "python"
    }
  },
  "cells": [
    {
      "cell_type": "code",
      "execution_count": 1,
      "metadata": {
        "colab": {
          "base_uri": "https://localhost:8080/"
        },
        "id": "8oiaj8OaIK3G",
        "outputId": "ef1e5d73-0b56-4392-b3c4-9a0fd95b6a1a"
      },
      "outputs": [
        {
          "output_type": "stream",
          "name": "stdout",
          "text": [
            "Mounted at /content/drive\n"
          ]
        }
      ],
      "source": [
        "# montando el drive\n",
        "from google.colab import drive\n",
        "drive.mount('/content/drive')"
      ]
    },
    {
      "cell_type": "code",
      "source": [
        "import pandas as pd\n",
        "\n",
        "from sklearn.metrics import confusion_matrix\n",
        "from sklearn.model_selection import train_test_split\n",
        "from sklearn import svm \n",
        "import matplotlib.pyplot as plt\n",
        "import numpy as np\n",
        "from sklearn.metrics import classification_report\n",
        "from sklearn.metrics import accuracy_score, balanced_accuracy_score,f1_score,precision_score,recall_score,roc_auc_score\n",
        "from sklearn.model_selection import cross_val_score\n",
        "import sklearn\n"
      ],
      "metadata": {
        "id": "hqdCWR7fJfL7"
      },
      "execution_count": 2,
      "outputs": []
    },
    {
      "cell_type": "code",
      "source": [
        "# cargando la data train\n",
        "df_train = pd.read_csv('/content/drive/MyDrive/UTEC_ML_data/dataset/sign_mnist_train/sign_mnist_train.csv')\n",
        "print(\"\"\"Dimensiones de sign_mnist_train:\n",
        "  {0} Observaciones  \n",
        "  {1} Variables:\n",
        "    1 variable dependiente (target = label)\n",
        "    {2} variables independientes (pixel 1 ... pixel 1784)\n",
        "  \n",
        "  Valores presentes en el target:\n",
        "    {3}\n",
        "  \"\"\".format(df_train.shape[0], df_train.shape[1],df_train.shape[1]-1,\n",
        "             df_train.sort_values(by='label')['label'].unique()))\n",
        "# df_train.head()\n"
      ],
      "metadata": {
        "id": "cNxk9XkVIPxE",
        "colab": {
          "base_uri": "https://localhost:8080/"
        },
        "outputId": "d728e199-1e6a-4ec5-ed82-9e12ae7be6b1"
      },
      "execution_count": 3,
      "outputs": [
        {
          "output_type": "stream",
          "name": "stdout",
          "text": [
            "Dimensiones de sign_mnist_train:\n",
            "  27455 Observaciones  \n",
            "  785 Variables:\n",
            "    1 variable dependiente (target = label)\n",
            "    784 variables independientes (pixel 1 ... pixel 1784)\n",
            "  \n",
            "  Valores presentes en el target:\n",
            "    [ 0  1  2  3  4  5  6  7  8 10 11 12 13 14 15 16 17 18 19 20 21 22 23 24]\n",
            "  \n"
          ]
        }
      ]
    },
    {
      "cell_type": "code",
      "source": [
        "# laa data esta balanceada\n",
        "barra = df_train.groupby('label')[['label']].count()\n",
        "col = barra.index\n",
        "barra['eje_x'] = col\n",
        "plt.bar(barra['eje_x'],barra['label'])\n",
        "plt.show()"
      ],
      "metadata": {
        "colab": {
          "base_uri": "https://localhost:8080/",
          "height": 265
        },
        "id": "Qgc4lBXWCFdz",
        "outputId": "a04f089a-cc3e-4081-8c0f-fc667bd8022a"
      },
      "execution_count": 4,
      "outputs": [
        {
          "output_type": "display_data",
          "data": {
            "text/plain": [
              "<Figure size 432x288 with 1 Axes>"
            ],
            "image/png": "[encoded data removed]"
          },
          "metadata": {
            "needs_background": "light"
          }
        }
      ]
    },
    {
      "cell_type": "code",
      "source": [
        "barra = df_train['label'].value_counts()\n",
        "barra = barra.sort_values()\n",
        "barra.plot(kind='bar')"
      ],
      "metadata": {
        "colab": {
          "base_uri": "https://localhost:8080/",
          "height": 285
        },
        "id": "BrXl4V4gDmj8",
        "outputId": "e31e21a2-b69d-4e19-f39b-b64dfe83e896"
      },
      "execution_count": 5,
      "outputs": [
        {
          "output_type": "execute_result",
          "data": {
            "text/plain": [
              "<matplotlib.axes._subplots.AxesSubplot at 0x7fc12114aa90>"
            ]
          },
          "metadata": {},
          "execution_count": 5
        },
        {
          "output_type": "display_data",
          "data": {
            "text/plain": [
              "<Figure size 432x288 with 1 Axes>"
            ],
            "image/png": "[encoded data removed]"
          },
          "metadata": {
            "needs_background": "light"
          }
        }
      ]
    },
    {
      "cell_type": "code",
      "source": [
        "df_test = pd.read_csv('/content/drive/MyDrive/UTEC_ML_data/dataset/sign_mnist_test/sign_mnist_test.csv')\n",
        "\n",
        "print(\"\"\"Dimensiones de sign_mnist_test:\n",
        "  {0} Observaciones  \n",
        "  {1} Variables:\n",
        "    1 variable dependiente (target = label)\n",
        "    {2} variables independientes (pixel 1 ... pixel 1784)\n",
        "  \n",
        "  Valores presentes en el target:\n",
        "    {3}\n",
        "  \"\"\".format(df_test.shape[0], df_test.shape[1],df_test.shape[1]-1,\n",
        "             df_test.sort_values(by='label')['label'].unique()))"
      ],
      "metadata": {
        "colab": {
          "base_uri": "https://localhost:8080/"
        },
        "id": "NeIjNSM4ez51",
        "outputId": "04558876-22a5-4742-accd-36a81eed35a7"
      },
      "execution_count": 6,
      "outputs": [
        {
          "output_type": "stream",
          "name": "stdout",
          "text": [
            "Dimensiones de sign_mnist_test:\n",
            "  7172 Observaciones  \n",
            "  785 Variables:\n",
            "    1 variable dependiente (target = label)\n",
            "    784 variables independientes (pixel 1 ... pixel 1784)\n",
            "  \n",
            "  Valores presentes en el target:\n",
            "    [ 0  1  2  3  4  5  6  7  8 10 11 12 13 14 15 16 17 18 19 20 21 22 23 24]\n",
            "  \n"
          ]
        }
      ]
    },
    {
      "cell_type": "code",
      "source": [
        "# preparando X_train y y_train\n",
        "X_train = df_train.iloc[:,1:].copy()\n",
        "y_train = df_train.iloc[:,0].copy()\n",
        "# preparando X_test y y_test\n",
        "X_test = df_test.iloc[:,1:].copy()\n",
        "y_test = df_test.iloc[:,0].copy()"
      ],
      "metadata": {
        "id": "H6Ra9oYkIP4c"
      },
      "execution_count": 9,
      "outputs": []
    },
    {
      "cell_type": "code",
      "source": [
        "# SVM multiclase -  kernel lineal\n",
        "import sklearn\n",
        "values_C_0 = [1,10,100]\n",
        "dict_model_C_0 = {}\n",
        "\n",
        "for c in values_C_0:\n",
        "  linear = svm.SVC(kernel='linear', C=c, decision_function_shape='ovo').fit(X_train, y_train)\n",
        "  print(\"value c = \",c)\n",
        "\n",
        "  linear_pred = linear.predict(X_test)\n",
        "  accuracy_lin = linear.score(X_test, y_test)\n",
        "  dict_model_C_0[c]= linear\n",
        "  print(\"Accuracy Linear Kernel (C = \",c,\") :\", accuracy_lin)"
      ],
      "metadata": {
        "colab": {
          "base_uri": "https://localhost:8080/"
        },
        "id": "YLDdaSS_lImn",
        "outputId": "1c10318f-bcbf-45ae-8883-ef0220f23717"
      },
      "execution_count": 37,
      "outputs": [
        {
          "output_type": "stream",
          "name": "stdout",
          "text": [
            "value c =  1\n",
            "Accuracy Linear Kernel (C =  1 ) : 0.7816508644729504\n",
            "value c =  10\n",
            "Accuracy Linear Kernel (C =  10 ) : 0.7816508644729504\n",
            "value c =  100\n",
            "Accuracy Linear Kernel (C =  100 ) : 0.7816508644729504\n"
          ]
        }
      ]
    },
    {
      "cell_type": "code",
      "source": [
        "print(classification_report(y_test, dict_model_C_0[1]))"
      ],
      "metadata": {
        "id": "kasl0ZTDE6ov"
      },
      "execution_count": null,
      "outputs": []
    },
    {
      "cell_type": "code",
      "source": [
        "# SVM multiclase -  kernel lineal\n",
        "import sklearn\n",
        "values_C_1 = [1,10,100]\n",
        "dict_model_C_1 = {}\n",
        "\n",
        "for c in values_C_1:\n",
        "  linear = svm.SVC(kernel='linear', C=c, decision_function_shape='ovr').fit(X_train, y_train)\n",
        "  print(\"value c = \",c)\n",
        "  linear_pred = linear.predict(X_test)\n",
        "  accuracy_lin = linear.score(X_test, y_test)\n",
        "  dict_model_C_1[c]= linear\n",
        "  print(\"Accuracy Linear Kernel (C = \",c,\") :\", accuracy_lin)"
      ],
      "metadata": {
        "colab": {
          "base_uri": "https://localhost:8080/"
        },
        "id": "NaGfrg0ME6yH",
        "outputId": "0a91282d-cbcd-4b84-daf0-4a8fb70c0f26"
      },
      "execution_count": 38,
      "outputs": [
        {
          "output_type": "stream",
          "name": "stdout",
          "text": [
            "value c =  1\n",
            "Accuracy Linear Kernel (C =  1 ) : 0.7816508644729504\n",
            "value c =  10\n",
            "Accuracy Linear Kernel (C =  10 ) : 0.7816508644729504\n",
            "value c =  100\n",
            "Accuracy Linear Kernel (C =  100 ) : 0.7816508644729504\n"
          ]
        }
      ]
    },
    {
      "cell_type": "code",
      "source": [
        "print(classification_report(y_test, dict_model_C_1[1]))"
      ],
      "metadata": {
        "id": "oncYh-pvQ8Rx"
      },
      "execution_count": null,
      "outputs": []
    },
    {
      "cell_type": "code",
      "source": [
        "# SVM multiclase -  kernel lineal\n",
        "import sklearn\n",
        "values_C = [1,10,100]\n",
        "dict_KF_C = {}\n",
        "dict_model_C = {}\n",
        "\n",
        "for c in values_C:\n",
        "  linear = svm.SVC(kernel='linear', C=c, decision_function_shape='ovo')#.fit(X_train, y_train)\n",
        "  CV = cross_val_score(estimator = linear, X = X_train, y = y_train, cv = 10)\n",
        "  print(\"value c = \",c)\n",
        "  print(\"media = \",CV.mean())\n",
        "  print(\"sd = \",CV.std())\n",
        "  \n",
        "  new_linear = sklearn.base.clone(linear)\n",
        "  new_linear.fit(X_train, y_train)\n",
        "  dict_KF_C[c] = new_linear\n",
        "  linear_pred = new_linear.predict(X_test)\n",
        "  accuracy_lin = new_linear.score(X_test, y_test)\n",
        "  dict_model_C[c]= linear_pred\n",
        "  print(\"Accuracy Linear Kernel (C = \",c,\") :\", accuracy_lin)"
      ],
      "metadata": {
        "colab": {
          "base_uri": "https://localhost:8080/"
        },
        "id": "-tgLqMmT6p2z",
        "outputId": "807285d9-c619-4939-bcf2-f698f58f2ef4"
      },
      "execution_count": 39,
      "outputs": [
        {
          "output_type": "stream",
          "name": "stdout",
          "text": [
            "value c =  1\n",
            "media =  1.0\n",
            "sd =  0.0\n",
            "Accuracy Linear Kernel (C =  1 ) : 0.7816508644729504\n",
            "value c =  10\n",
            "media =  1.0\n",
            "sd =  0.0\n",
            "Accuracy Linear Kernel (C =  10 ) : 0.7816508644729504\n",
            "value c =  100\n",
            "media =  1.0\n",
            "sd =  0.0\n",
            "Accuracy Linear Kernel (C =  100 ) : 0.7816508644729504\n"
          ]
        }
      ]
    },
    {
      "cell_type": "code",
      "source": [
        "# evaluacion de redultados\n",
        "print(classification_report(y_test, dict_model_C[1]))"
      ],
      "metadata": {
        "colab": {
          "base_uri": "https://localhost:8080/"
        },
        "id": "3d9u0gkWC1o3",
        "outputId": "d2e3404e-f5d6-491a-be69-0f1595f99968"
      },
      "execution_count": 35,
      "outputs": [
        {
          "output_type": "stream",
          "name": "stdout",
          "text": [
            "              precision    recall  f1-score   support\n",
            "\n",
            "           0       0.84      1.00      0.92       331\n",
            "           1       1.00      0.95      0.97       432\n",
            "           2       0.78      0.98      0.87       310\n",
            "           3       0.89      1.00      0.94       245\n",
            "           4       0.92      1.00      0.96       498\n",
            "           5       0.68      0.83      0.75       247\n",
            "           6       0.84      0.86      0.85       348\n",
            "           7       0.95      0.88      0.91       436\n",
            "           8       0.73      0.74      0.74       288\n",
            "          10       0.62      0.40      0.48       331\n",
            "          11       0.58      0.60      0.59       209\n",
            "          12       0.87      0.69      0.77       394\n",
            "          13       0.88      0.63      0.74       291\n",
            "          14       0.88      0.65      0.75       246\n",
            "          15       0.90      1.00      0.95       347\n",
            "          16       0.76      0.95      0.85       164\n",
            "          17       0.30      0.67      0.41       144\n",
            "          18       0.61      0.66      0.63       246\n",
            "          19       0.88      0.69      0.77       248\n",
            "          20       0.56      0.64      0.60       266\n",
            "          21       0.91      0.61      0.73       346\n",
            "          22       0.71      0.77      0.74       206\n",
            "          23       0.55      0.53      0.54       267\n",
            "          24       0.82      0.70      0.75       332\n",
            "\n",
            "    accuracy                           0.78      7172\n",
            "   macro avg       0.77      0.77      0.76      7172\n",
            "weighted avg       0.80      0.78      0.78      7172\n",
            "\n"
          ]
        }
      ]
    },
    {
      "cell_type": "code",
      "source": [
        "# SVM multiclase -  kernel lineal\n",
        "import sklearn\n",
        "values_Cr = [1,10,100]\n",
        "dict_KF_Cr = {}\n",
        "dict_model_Cr = {}\n",
        "\n",
        "for c in values_Cr:\n",
        "  linear = svm.SVC(kernel='linear', C=c, decision_function_shape='ovr')\n",
        "  CV = cross_val_score(estimator = linear, X = X_train, y = y_train, cv = 10)\n",
        "  print(\"value c = \",c)\n",
        "  print(\"media = \",CV.mean())\n",
        "  print(\"sd = \",CV.std())\n",
        "  \n",
        "  new_linear = sklearn.base.clone(linear)\n",
        "  new_linear.fit(X_train, y_train)\n",
        "  dict_KF_Cr[c] = new_linear\n",
        "  linear_pred = new_linear.predict(X_test)\n",
        "  accuracy_lin = new_linear.score(X_test, y_test)\n",
        "  dict_model_Cr[c]= linear_pred\n",
        "  print(\"Accuracy Linear Kernel (c = \",c,\") :\", accuracy_lin)"
      ],
      "metadata": {
        "colab": {
          "base_uri": "https://localhost:8080/",
          "height": 382
        },
        "id": "mAI-xwClDCcG",
        "outputId": "d170c776-3ccc-45a0-d938-3ad754d7ee3a"
      },
      "execution_count": 54,
      "outputs": [
        {
          "output_type": "error",
          "ename": "KeyboardInterrupt",
          "evalue": "ignored",
          "traceback": [
            "\u001b[0;31m---------------------------------------------------------------------------\u001b[0m",
            "\u001b[0;31mKeyboardInterrupt\u001b[0m                         Traceback (most recent call last)",
            "\u001b[0;32m<ipython-input-54-010241bb8cdf>\u001b[0m in \u001b[0;36m<module>\u001b[0;34m\u001b[0m\n\u001b[1;32m      7\u001b[0m \u001b[0;32mfor\u001b[0m \u001b[0mc\u001b[0m \u001b[0;32min\u001b[0m \u001b[0mvalues_Cr\u001b[0m\u001b[0;34m:\u001b[0m\u001b[0;34m\u001b[0m\u001b[0;34m\u001b[0m\u001b[0m\n\u001b[1;32m      8\u001b[0m   \u001b[0mlinear\u001b[0m \u001b[0;34m=\u001b[0m \u001b[0msvm\u001b[0m\u001b[0;34m.\u001b[0m\u001b[0mSVC\u001b[0m\u001b[0;34m(\u001b[0m\u001b[0mkernel\u001b[0m\u001b[0;34m=\u001b[0m\u001b[0;34m'linear'\u001b[0m\u001b[0;34m,\u001b[0m \u001b[0mC\u001b[0m\u001b[0;34m=\u001b[0m\u001b[0mc\u001b[0m\u001b[0;34m,\u001b[0m \u001b[0mdecision_function_shape\u001b[0m\u001b[0;34m=\u001b[0m\u001b[0;34m'ovr'\u001b[0m\u001b[0;34m)\u001b[0m\u001b[0;34m\u001b[0m\u001b[0;34m\u001b[0m\u001b[0m\n\u001b[0;32m----> 9\u001b[0;31m   \u001b[0mCV\u001b[0m \u001b[0;34m=\u001b[0m \u001b[0mcross_val_score\u001b[0m\u001b[0;34m(\u001b[0m\u001b[0mestimator\u001b[0m \u001b[0;34m=\u001b[0m \u001b[0mlinear\u001b[0m\u001b[0;34m,\u001b[0m \u001b[0mX\u001b[0m \u001b[0;34m=\u001b[0m \u001b[0mX_train\u001b[0m\u001b[0;34m,\u001b[0m \u001b[0my\u001b[0m \u001b[0;34m=\u001b[0m \u001b[0my_train\u001b[0m\u001b[0;34m,\u001b[0m \u001b[0mcv\u001b[0m \u001b[0;34m=\u001b[0m \u001b[0;36m10\u001b[0m\u001b[0;34m)\u001b[0m\u001b[0;34m\u001b[0m\u001b[0;34m\u001b[0m\u001b[0m\n\u001b[0m\u001b[1;32m     10\u001b[0m   \u001b[0mprint\u001b[0m\u001b[0;34m(\u001b[0m\u001b[0;34m\"value c = \"\u001b[0m\u001b[0;34m,\u001b[0m\u001b[0mc\u001b[0m\u001b[0;34m)\u001b[0m\u001b[0;34m\u001b[0m\u001b[0;34m\u001b[0m\u001b[0m\n\u001b[1;32m     11\u001b[0m   \u001b[0mprint\u001b[0m\u001b[0;34m(\u001b[0m\u001b[0;34m\"media = \"\u001b[0m\u001b[0;34m,\u001b[0m\u001b[0mCV\u001b[0m\u001b[0;34m.\u001b[0m\u001b[0mmean\u001b[0m\u001b[0;34m(\u001b[0m\u001b[0;34m)\u001b[0m\u001b[0;34m)\u001b[0m\u001b[0;34m\u001b[0m\u001b[0;34m\u001b[0m\u001b[0m\n",
            "\u001b[0;32m/usr/local/lib/python3.7/dist-packages/sklearn/model_selection/_validation.py\u001b[0m in \u001b[0;36mcross_val_score\u001b[0;34m(estimator, X, y, groups, scoring, cv, n_jobs, verbose, fit_params, pre_dispatch, error_score)\u001b[0m\n\u001b[1;32m    518\u001b[0m         \u001b[0mfit_params\u001b[0m\u001b[0;34m=\u001b[0m\u001b[0mfit_params\u001b[0m\u001b[0;34m,\u001b[0m\u001b[0;34m\u001b[0m\u001b[0;34m\u001b[0m\u001b[0m\n\u001b[1;32m    519\u001b[0m         \u001b[0mpre_dispatch\u001b[0m\u001b[0;34m=\u001b[0m\u001b[0mpre_dispatch\u001b[0m\u001b[0;34m,\u001b[0m\u001b[0;34m\u001b[0m\u001b[0;34m\u001b[0m\u001b[0m\n\u001b[0;32m--> 520\u001b[0;31m         \u001b[0merror_score\u001b[0m\u001b[0;34m=\u001b[0m\u001b[0merror_score\u001b[0m\u001b[0;34m,\u001b[0m\u001b[0;34m\u001b[0m\u001b[0;34m\u001b[0m\u001b[0m\n\u001b[0m\u001b[1;32m    521\u001b[0m     )\n\u001b[1;32m    522\u001b[0m     \u001b[0;32mreturn\u001b[0m \u001b[0mcv_results\u001b[0m\u001b[0;34m[\u001b[0m\u001b[0;34m\"test_score\"\u001b[0m\u001b[0;34m]\u001b[0m\u001b[0;34m\u001b[0m\u001b[0;34m\u001b[0m\u001b[0m\n",
            "\u001b[0;32m/usr/local/lib/python3.7/dist-packages/sklearn/model_selection/_validation.py\u001b[0m in \u001b[0;36mcross_validate\u001b[0;34m(estimator, X, y, groups, scoring, cv, n_jobs, verbose, fit_params, pre_dispatch, return_train_score, return_estimator, error_score)\u001b[0m\n\u001b[1;32m    281\u001b[0m             \u001b[0merror_score\u001b[0m\u001b[0;34m=\u001b[0m\u001b[0merror_score\u001b[0m\u001b[0;34m,\u001b[0m\u001b[0;34m\u001b[0m\u001b[0;34m\u001b[0m\u001b[0m\n\u001b[1;32m    282\u001b[0m         )\n\u001b[0;32m--> 283\u001b[0;31m         \u001b[0;32mfor\u001b[0m \u001b[0mtrain\u001b[0m\u001b[0;34m,\u001b[0m \u001b[0mtest\u001b[0m \u001b[0;32min\u001b[0m \u001b[0mcv\u001b[0m\u001b[0;34m.\u001b[0m\u001b[0msplit\u001b[0m\u001b[0;34m(\u001b[0m\u001b[0mX\u001b[0m\u001b[0;34m,\u001b[0m \u001b[0my\u001b[0m\u001b[0;34m,\u001b[0m \u001b[0mgroups\u001b[0m\u001b[0;34m)\u001b[0m\u001b[0;34m\u001b[0m\u001b[0;34m\u001b[0m\u001b[0m\n\u001b[0m\u001b[1;32m    284\u001b[0m     )\n\u001b[1;32m    285\u001b[0m \u001b[0;34m\u001b[0m\u001b[0m\n",
            "\u001b[0;32m/usr/local/lib/python3.7/dist-packages/joblib/parallel.py\u001b[0m in \u001b[0;36m__call__\u001b[0;34m(self, iterable)\u001b[0m\n\u001b[1;32m   1083\u001b[0m             \u001b[0;31m# remaining jobs.\u001b[0m\u001b[0;34m\u001b[0m\u001b[0;34m\u001b[0m\u001b[0;34m\u001b[0m\u001b[0m\n\u001b[1;32m   1084\u001b[0m             \u001b[0mself\u001b[0m\u001b[0;34m.\u001b[0m\u001b[0m_iterating\u001b[0m \u001b[0;34m=\u001b[0m \u001b[0;32mFalse\u001b[0m\u001b[0;34m\u001b[0m\u001b[0;34m\u001b[0m\u001b[0m\n\u001b[0;32m-> 1085\u001b[0;31m             \u001b[0;32mif\u001b[0m \u001b[0mself\u001b[0m\u001b[0;34m.\u001b[0m\u001b[0mdispatch_one_batch\u001b[0m\u001b[0;34m(\u001b[0m\u001b[0miterator\u001b[0m\u001b[0;34m)\u001b[0m\u001b[0;34m:\u001b[0m\u001b[0;34m\u001b[0m\u001b[0;34m\u001b[0m\u001b[0m\n\u001b[0m\u001b[1;32m   1086\u001b[0m                 \u001b[0mself\u001b[0m\u001b[0;34m.\u001b[0m\u001b[0m_iterating\u001b[0m \u001b[0;34m=\u001b[0m \u001b[0mself\u001b[0m\u001b[0;34m.\u001b[0m\u001b[0m_original_iterator\u001b[0m \u001b[0;32mis\u001b[0m \u001b[0;32mnot\u001b[0m \u001b[0;32mNone\u001b[0m\u001b[0;34m\u001b[0m\u001b[0;34m\u001b[0m\u001b[0m\n\u001b[1;32m   1087\u001b[0m \u001b[0;34m\u001b[0m\u001b[0m\n",
            "\u001b[0;32m/usr/local/lib/python3.7/dist-packages/joblib/parallel.py\u001b[0m in \u001b[0;36mdispatch_one_batch\u001b[0;34m(self, iterator)\u001b[0m\n\u001b[1;32m    899\u001b[0m                 \u001b[0;32mreturn\u001b[0m \u001b[0;32mFalse\u001b[0m\u001b[0;34m\u001b[0m\u001b[0;34m\u001b[0m\u001b[0m\n\u001b[1;32m    900\u001b[0m             \u001b[0;32melse\u001b[0m\u001b[0;34m:\u001b[0m\u001b[0;34m\u001b[0m\u001b[0;34m\u001b[0m\u001b[0m\n\u001b[0;32m--> 901\u001b[0;31m                 \u001b[0mself\u001b[0m\u001b[0;34m.\u001b[0m\u001b[0m_dispatch\u001b[0m\u001b[0;34m(\u001b[0m\u001b[0mtasks\u001b[0m\u001b[0;34m)\u001b[0m\u001b[0;34m\u001b[0m\u001b[0;34m\u001b[0m\u001b[0m\n\u001b[0m\u001b[1;32m    902\u001b[0m                 \u001b[0;32mreturn\u001b[0m \u001b[0;32mTrue\u001b[0m\u001b[0;34m\u001b[0m\u001b[0;34m\u001b[0m\u001b[0m\n\u001b[1;32m    903\u001b[0m \u001b[0;34m\u001b[0m\u001b[0m\n",
            "\u001b[0;32m/usr/local/lib/python3.7/dist-packages/joblib/parallel.py\u001b[0m in \u001b[0;36m_dispatch\u001b[0;34m(self, batch)\u001b[0m\n\u001b[1;32m    817\u001b[0m         \u001b[0;32mwith\u001b[0m \u001b[0mself\u001b[0m\u001b[0;34m.\u001b[0m\u001b[0m_lock\u001b[0m\u001b[0;34m:\u001b[0m\u001b[0;34m\u001b[0m\u001b[0;34m\u001b[0m\u001b[0m\n\u001b[1;32m    818\u001b[0m             \u001b[0mjob_idx\u001b[0m \u001b[0;34m=\u001b[0m \u001b[0mlen\u001b[0m\u001b[0;34m(\u001b[0m\u001b[0mself\u001b[0m\u001b[0;34m.\u001b[0m\u001b[0m_jobs\u001b[0m\u001b[0;34m)\u001b[0m\u001b[0;34m\u001b[0m\u001b[0;34m\u001b[0m\u001b[0m\n\u001b[0;32m--> 819\u001b[0;31m             \u001b[0mjob\u001b[0m \u001b[0;34m=\u001b[0m \u001b[0mself\u001b[0m\u001b[0;34m.\u001b[0m\u001b[0m_backend\u001b[0m\u001b[0;34m.\u001b[0m\u001b[0mapply_async\u001b[0m\u001b[0;34m(\u001b[0m\u001b[0mbatch\u001b[0m\u001b[0;34m,\u001b[0m \u001b[0mcallback\u001b[0m\u001b[0;34m=\u001b[0m\u001b[0mcb\u001b[0m\u001b[0;34m)\u001b[0m\u001b[0;34m\u001b[0m\u001b[0;34m\u001b[0m\u001b[0m\n\u001b[0m\u001b[1;32m    820\u001b[0m             \u001b[0;31m# A job can complete so quickly than its callback is\u001b[0m\u001b[0;34m\u001b[0m\u001b[0;34m\u001b[0m\u001b[0;34m\u001b[0m\u001b[0m\n\u001b[1;32m    821\u001b[0m             \u001b[0;31m# called before we get here, causing self._jobs to\u001b[0m\u001b[0;34m\u001b[0m\u001b[0;34m\u001b[0m\u001b[0;34m\u001b[0m\u001b[0m\n",
            "\u001b[0;32m/usr/local/lib/python3.7/dist-packages/joblib/_parallel_backends.py\u001b[0m in \u001b[0;36mapply_async\u001b[0;34m(self, func, callback)\u001b[0m\n\u001b[1;32m    206\u001b[0m     \u001b[0;32mdef\u001b[0m \u001b[0mapply_async\u001b[0m\u001b[0;34m(\u001b[0m\u001b[0mself\u001b[0m\u001b[0;34m,\u001b[0m \u001b[0mfunc\u001b[0m\u001b[0;34m,\u001b[0m \u001b[0mcallback\u001b[0m\u001b[0;34m=\u001b[0m\u001b[0;32mNone\u001b[0m\u001b[0;34m)\u001b[0m\u001b[0;34m:\u001b[0m\u001b[0;34m\u001b[0m\u001b[0;34m\u001b[0m\u001b[0m\n\u001b[1;32m    207\u001b[0m         \u001b[0;34m\"\"\"Schedule a func to be run\"\"\"\u001b[0m\u001b[0;34m\u001b[0m\u001b[0;34m\u001b[0m\u001b[0m\n\u001b[0;32m--> 208\u001b[0;31m         \u001b[0mresult\u001b[0m \u001b[0;34m=\u001b[0m \u001b[0mImmediateResult\u001b[0m\u001b[0;34m(\u001b[0m\u001b[0mfunc\u001b[0m\u001b[0;34m)\u001b[0m\u001b[0;34m\u001b[0m\u001b[0;34m\u001b[0m\u001b[0m\n\u001b[0m\u001b[1;32m    209\u001b[0m         \u001b[0;32mif\u001b[0m \u001b[0mcallback\u001b[0m\u001b[0;34m:\u001b[0m\u001b[0;34m\u001b[0m\u001b[0;34m\u001b[0m\u001b[0m\n\u001b[1;32m    210\u001b[0m             \u001b[0mcallback\u001b[0m\u001b[0;34m(\u001b[0m\u001b[0mresult\u001b[0m\u001b[0;34m)\u001b[0m\u001b[0;34m\u001b[0m\u001b[0;34m\u001b[0m\u001b[0m\n",
            "\u001b[0;32m/usr/local/lib/python3.7/dist-packages/joblib/_parallel_backends.py\u001b[0m in \u001b[0;36m__init__\u001b[0;34m(self, batch)\u001b[0m\n\u001b[1;32m    595\u001b[0m         \u001b[0;31m# Don't delay the application, to avoid keeping the input\u001b[0m\u001b[0;34m\u001b[0m\u001b[0;34m\u001b[0m\u001b[0;34m\u001b[0m\u001b[0m\n\u001b[1;32m    596\u001b[0m         \u001b[0;31m# arguments in memory\u001b[0m\u001b[0;34m\u001b[0m\u001b[0;34m\u001b[0m\u001b[0;34m\u001b[0m\u001b[0m\n\u001b[0;32m--> 597\u001b[0;31m         \u001b[0mself\u001b[0m\u001b[0;34m.\u001b[0m\u001b[0mresults\u001b[0m \u001b[0;34m=\u001b[0m \u001b[0mbatch\u001b[0m\u001b[0;34m(\u001b[0m\u001b[0;34m)\u001b[0m\u001b[0;34m\u001b[0m\u001b[0;34m\u001b[0m\u001b[0m\n\u001b[0m\u001b[1;32m    598\u001b[0m \u001b[0;34m\u001b[0m\u001b[0m\n\u001b[1;32m    599\u001b[0m     \u001b[0;32mdef\u001b[0m \u001b[0mget\u001b[0m\u001b[0;34m(\u001b[0m\u001b[0mself\u001b[0m\u001b[0;34m)\u001b[0m\u001b[0;34m:\u001b[0m\u001b[0;34m\u001b[0m\u001b[0;34m\u001b[0m\u001b[0m\n",
            "\u001b[0;32m/usr/local/lib/python3.7/dist-packages/joblib/parallel.py\u001b[0m in \u001b[0;36m__call__\u001b[0;34m(self)\u001b[0m\n\u001b[1;32m    287\u001b[0m         \u001b[0;32mwith\u001b[0m \u001b[0mparallel_backend\u001b[0m\u001b[0;34m(\u001b[0m\u001b[0mself\u001b[0m\u001b[0;34m.\u001b[0m\u001b[0m_backend\u001b[0m\u001b[0;34m,\u001b[0m \u001b[0mn_jobs\u001b[0m\u001b[0;34m=\u001b[0m\u001b[0mself\u001b[0m\u001b[0;34m.\u001b[0m\u001b[0m_n_jobs\u001b[0m\u001b[0;34m)\u001b[0m\u001b[0;34m:\u001b[0m\u001b[0;34m\u001b[0m\u001b[0;34m\u001b[0m\u001b[0m\n\u001b[1;32m    288\u001b[0m             return [func(*args, **kwargs)\n\u001b[0;32m--> 289\u001b[0;31m                     for func, args, kwargs in self.items]\n\u001b[0m\u001b[1;32m    290\u001b[0m \u001b[0;34m\u001b[0m\u001b[0m\n\u001b[1;32m    291\u001b[0m     \u001b[0;32mdef\u001b[0m \u001b[0m__reduce__\u001b[0m\u001b[0;34m(\u001b[0m\u001b[0mself\u001b[0m\u001b[0;34m)\u001b[0m\u001b[0;34m:\u001b[0m\u001b[0;34m\u001b[0m\u001b[0;34m\u001b[0m\u001b[0m\n",
            "\u001b[0;32m/usr/local/lib/python3.7/dist-packages/joblib/parallel.py\u001b[0m in \u001b[0;36m<listcomp>\u001b[0;34m(.0)\u001b[0m\n\u001b[1;32m    287\u001b[0m         \u001b[0;32mwith\u001b[0m \u001b[0mparallel_backend\u001b[0m\u001b[0;34m(\u001b[0m\u001b[0mself\u001b[0m\u001b[0;34m.\u001b[0m\u001b[0m_backend\u001b[0m\u001b[0;34m,\u001b[0m \u001b[0mn_jobs\u001b[0m\u001b[0;34m=\u001b[0m\u001b[0mself\u001b[0m\u001b[0;34m.\u001b[0m\u001b[0m_n_jobs\u001b[0m\u001b[0;34m)\u001b[0m\u001b[0;34m:\u001b[0m\u001b[0;34m\u001b[0m\u001b[0;34m\u001b[0m\u001b[0m\n\u001b[1;32m    288\u001b[0m             return [func(*args, **kwargs)\n\u001b[0;32m--> 289\u001b[0;31m                     for func, args, kwargs in self.items]\n\u001b[0m\u001b[1;32m    290\u001b[0m \u001b[0;34m\u001b[0m\u001b[0m\n\u001b[1;32m    291\u001b[0m     \u001b[0;32mdef\u001b[0m \u001b[0m__reduce__\u001b[0m\u001b[0;34m(\u001b[0m\u001b[0mself\u001b[0m\u001b[0;34m)\u001b[0m\u001b[0;34m:\u001b[0m\u001b[0;34m\u001b[0m\u001b[0;34m\u001b[0m\u001b[0m\n",
            "\u001b[0;32m/usr/local/lib/python3.7/dist-packages/sklearn/utils/fixes.py\u001b[0m in \u001b[0;36m__call__\u001b[0;34m(self, *args, **kwargs)\u001b[0m\n\u001b[1;32m    214\u001b[0m     \u001b[0;32mdef\u001b[0m \u001b[0m__call__\u001b[0m\u001b[0;34m(\u001b[0m\u001b[0mself\u001b[0m\u001b[0;34m,\u001b[0m \u001b[0;34m*\u001b[0m\u001b[0margs\u001b[0m\u001b[0;34m,\u001b[0m \u001b[0;34m**\u001b[0m\u001b[0mkwargs\u001b[0m\u001b[0;34m)\u001b[0m\u001b[0;34m:\u001b[0m\u001b[0;34m\u001b[0m\u001b[0;34m\u001b[0m\u001b[0m\n\u001b[1;32m    215\u001b[0m         \u001b[0;32mwith\u001b[0m \u001b[0mconfig_context\u001b[0m\u001b[0;34m(\u001b[0m\u001b[0;34m**\u001b[0m\u001b[0mself\u001b[0m\u001b[0;34m.\u001b[0m\u001b[0mconfig\u001b[0m\u001b[0;34m)\u001b[0m\u001b[0;34m:\u001b[0m\u001b[0;34m\u001b[0m\u001b[0;34m\u001b[0m\u001b[0m\n\u001b[0;32m--> 216\u001b[0;31m             \u001b[0;32mreturn\u001b[0m \u001b[0mself\u001b[0m\u001b[0;34m.\u001b[0m\u001b[0mfunction\u001b[0m\u001b[0;34m(\u001b[0m\u001b[0;34m*\u001b[0m\u001b[0margs\u001b[0m\u001b[0;34m,\u001b[0m \u001b[0;34m**\u001b[0m\u001b[0mkwargs\u001b[0m\u001b[0;34m)\u001b[0m\u001b[0;34m\u001b[0m\u001b[0;34m\u001b[0m\u001b[0m\n\u001b[0m\u001b[1;32m    217\u001b[0m \u001b[0;34m\u001b[0m\u001b[0m\n\u001b[1;32m    218\u001b[0m \u001b[0;34m\u001b[0m\u001b[0m\n",
            "\u001b[0;32m/usr/local/lib/python3.7/dist-packages/sklearn/model_selection/_validation.py\u001b[0m in \u001b[0;36m_fit_and_score\u001b[0;34m(estimator, X, y, scorer, train, test, verbose, parameters, fit_params, return_train_score, return_parameters, return_n_test_samples, return_times, return_estimator, split_progress, candidate_progress, error_score)\u001b[0m\n\u001b[1;32m    678\u001b[0m             \u001b[0mestimator\u001b[0m\u001b[0;34m.\u001b[0m\u001b[0mfit\u001b[0m\u001b[0;34m(\u001b[0m\u001b[0mX_train\u001b[0m\u001b[0;34m,\u001b[0m \u001b[0;34m**\u001b[0m\u001b[0mfit_params\u001b[0m\u001b[0;34m)\u001b[0m\u001b[0;34m\u001b[0m\u001b[0;34m\u001b[0m\u001b[0m\n\u001b[1;32m    679\u001b[0m         \u001b[0;32melse\u001b[0m\u001b[0;34m:\u001b[0m\u001b[0;34m\u001b[0m\u001b[0;34m\u001b[0m\u001b[0m\n\u001b[0;32m--> 680\u001b[0;31m             \u001b[0mestimator\u001b[0m\u001b[0;34m.\u001b[0m\u001b[0mfit\u001b[0m\u001b[0;34m(\u001b[0m\u001b[0mX_train\u001b[0m\u001b[0;34m,\u001b[0m \u001b[0my_train\u001b[0m\u001b[0;34m,\u001b[0m \u001b[0;34m**\u001b[0m\u001b[0mfit_params\u001b[0m\u001b[0;34m)\u001b[0m\u001b[0;34m\u001b[0m\u001b[0;34m\u001b[0m\u001b[0m\n\u001b[0m\u001b[1;32m    681\u001b[0m \u001b[0;34m\u001b[0m\u001b[0m\n\u001b[1;32m    682\u001b[0m     \u001b[0;32mexcept\u001b[0m \u001b[0mException\u001b[0m\u001b[0;34m:\u001b[0m\u001b[0;34m\u001b[0m\u001b[0;34m\u001b[0m\u001b[0m\n",
            "\u001b[0;32m/usr/local/lib/python3.7/dist-packages/sklearn/svm/_base.py\u001b[0m in \u001b[0;36mfit\u001b[0;34m(self, X, y, sample_weight)\u001b[0m\n\u001b[1;32m    253\u001b[0m \u001b[0;34m\u001b[0m\u001b[0m\n\u001b[1;32m    254\u001b[0m         \u001b[0mseed\u001b[0m \u001b[0;34m=\u001b[0m \u001b[0mrnd\u001b[0m\u001b[0;34m.\u001b[0m\u001b[0mrandint\u001b[0m\u001b[0;34m(\u001b[0m\u001b[0mnp\u001b[0m\u001b[0;34m.\u001b[0m\u001b[0miinfo\u001b[0m\u001b[0;34m(\u001b[0m\u001b[0;34m\"i\"\u001b[0m\u001b[0;34m)\u001b[0m\u001b[0;34m.\u001b[0m\u001b[0mmax\u001b[0m\u001b[0;34m)\u001b[0m\u001b[0;34m\u001b[0m\u001b[0;34m\u001b[0m\u001b[0m\n\u001b[0;32m--> 255\u001b[0;31m         \u001b[0mfit\u001b[0m\u001b[0;34m(\u001b[0m\u001b[0mX\u001b[0m\u001b[0;34m,\u001b[0m \u001b[0my\u001b[0m\u001b[0;34m,\u001b[0m \u001b[0msample_weight\u001b[0m\u001b[0;34m,\u001b[0m \u001b[0msolver_type\u001b[0m\u001b[0;34m,\u001b[0m \u001b[0mkernel\u001b[0m\u001b[0;34m,\u001b[0m \u001b[0mrandom_seed\u001b[0m\u001b[0;34m=\u001b[0m\u001b[0mseed\u001b[0m\u001b[0;34m)\u001b[0m\u001b[0;34m\u001b[0m\u001b[0;34m\u001b[0m\u001b[0m\n\u001b[0m\u001b[1;32m    256\u001b[0m         \u001b[0;31m# see comment on the other call to np.iinfo in this file\u001b[0m\u001b[0;34m\u001b[0m\u001b[0;34m\u001b[0m\u001b[0;34m\u001b[0m\u001b[0m\n\u001b[1;32m    257\u001b[0m \u001b[0;34m\u001b[0m\u001b[0m\n",
            "\u001b[0;32m/usr/local/lib/python3.7/dist-packages/sklearn/svm/_base.py\u001b[0m in \u001b[0;36m_dense_fit\u001b[0;34m(self, X, y, sample_weight, solver_type, kernel, random_seed)\u001b[0m\n\u001b[1;32m    331\u001b[0m             \u001b[0mepsilon\u001b[0m\u001b[0;34m=\u001b[0m\u001b[0mself\u001b[0m\u001b[0;34m.\u001b[0m\u001b[0mepsilon\u001b[0m\u001b[0;34m,\u001b[0m\u001b[0;34m\u001b[0m\u001b[0;34m\u001b[0m\u001b[0m\n\u001b[1;32m    332\u001b[0m             \u001b[0mmax_iter\u001b[0m\u001b[0;34m=\u001b[0m\u001b[0mself\u001b[0m\u001b[0;34m.\u001b[0m\u001b[0mmax_iter\u001b[0m\u001b[0;34m,\u001b[0m\u001b[0;34m\u001b[0m\u001b[0;34m\u001b[0m\u001b[0m\n\u001b[0;32m--> 333\u001b[0;31m             \u001b[0mrandom_seed\u001b[0m\u001b[0;34m=\u001b[0m\u001b[0mrandom_seed\u001b[0m\u001b[0;34m,\u001b[0m\u001b[0;34m\u001b[0m\u001b[0;34m\u001b[0m\u001b[0m\n\u001b[0m\u001b[1;32m    334\u001b[0m         )\n\u001b[1;32m    335\u001b[0m \u001b[0;34m\u001b[0m\u001b[0m\n",
            "\u001b[0;31mKeyboardInterrupt\u001b[0m: "
          ]
        }
      ]
    },
    {
      "cell_type": "code",
      "source": [
        "print(classification_report(y_test, dict_model_Cr[1]))"
      ],
      "metadata": {
        "id": "nWAYne3ZSEm5"
      },
      "execution_count": null,
      "outputs": []
    },
    {
      "cell_type": "code",
      "source": [
        "# SVM multiclase -  kernel lineal\n",
        "import sklearn\n",
        "grado = [3, 4 ,5]\n",
        "dict_model_C_p0 = {}\n",
        "\n",
        "for g in grado:\n",
        "  poly = svm.SVC(kernel='poly', degree=g, C=1, decision_function_shape='ovo').fit(X_train, y_train)\n",
        "  poly_pred = poly.predict(X_test)\n",
        "  accuracy_poly = poly.score(X_test, y_test)\n",
        "  dict_model_C_p0[c]= poly\n",
        "  print(\"Accuracy poly Kernel (g = \",g,\") :\", accuracy_poly)"
      ],
      "metadata": {
        "colab": {
          "base_uri": "https://localhost:8080/"
        },
        "id": "-SAy_Ni8Lo5w",
        "outputId": "afc912f3-422f-47d1-f9c0-4e4d72af40b2"
      },
      "execution_count": 55,
      "outputs": [
        {
          "output_type": "stream",
          "name": "stdout",
          "text": [
            "Accuracy poly Kernel (g =  3 ) : 0.782069157836029\n",
            "Accuracy poly Kernel (g =  4 ) : 0.7695203569436698\n",
            "Accuracy poly Kernel (g =  5 ) : 0.7663134411600669\n"
          ]
        }
      ]
    },
    {
      "cell_type": "code",
      "source": [
        "# SVM multiclase -  kernel lineal\n",
        "import sklearn\n",
        "grado = [3, 4 ,5]\n",
        "\n",
        "dict_model_C_pr0 = {}\n",
        "\n",
        "for g in grado:\n",
        "  poly = svm.SVC(kernel='poly', degree=g, C=1, decision_function_shape='ovr').fit(X_train, y_train)\n",
        "\n",
        "  poly_pred = poly.predict(X_test)\n",
        "  accuracy_poly = poly.score(X_test, y_test)\n",
        "  dict_model_C_pr0[g]= poly\n",
        "  print(\"Accuracy poly Kernel (g = \",g,\") :\", accuracy_poly)"
      ],
      "metadata": {
        "colab": {
          "base_uri": "https://localhost:8080/"
        },
        "id": "ZYsuoj6UNCnR",
        "outputId": "f295eb18-3c12-4418-9c74-b240de82d1e7"
      },
      "execution_count": 56,
      "outputs": [
        {
          "output_type": "stream",
          "name": "stdout",
          "text": [
            "Accuracy poly Kernel (g =  3 ) : 0.782069157836029\n",
            "Accuracy poly Kernel (g =  4 ) : 0.7695203569436698\n",
            "Accuracy poly Kernel (g =  5 ) : 0.7663134411600669\n"
          ]
        }
      ]
    },
    {
      "cell_type": "code",
      "source": [
        "print(classification_report(y_test, dict_model_C_pr0[3]))"
      ],
      "metadata": {
        "colab": {
          "base_uri": "https://localhost:8080/",
          "height": 167
        },
        "id": "Q_6YWF_CS8OQ",
        "outputId": "56e1d7e6-6adb-4c8b-de7e-5fb316048a5f"
      },
      "execution_count": 52,
      "outputs": [
        {
          "output_type": "error",
          "ename": "NameError",
          "evalue": "ignored",
          "traceback": [
            "\u001b[0;31m---------------------------------------------------------------------------\u001b[0m",
            "\u001b[0;31mNameError\u001b[0m                                 Traceback (most recent call last)",
            "\u001b[0;32m<ipython-input-52-4506c195b3fe>\u001b[0m in \u001b[0;36m<module>\u001b[0;34m\u001b[0m\n\u001b[0;32m----> 1\u001b[0;31m \u001b[0mcdict_model_C_pr0\u001b[0m\u001b[0;34m\u001b[0m\u001b[0;34m\u001b[0m\u001b[0m\n\u001b[0m",
            "\u001b[0;31mNameError\u001b[0m: name 'cdict_model_C_pr0' is not defined"
          ]
        }
      ]
    },
    {
      "cell_type": "code",
      "source": [
        "# SVM multiclase -  kernel lineal\n",
        "import sklearn\n",
        "grado = [3, 4 ,5]\n",
        "dict_KF_C_0_kf = {}\n",
        "dict_model_C_pr0_kf = {}\n",
        "\n",
        "for g in grado:\n",
        "  poly = svm.SVC(kernel='poly', degree=g, C=1, decision_function_shape='ovr')#.fit(X_train, y_train)\n",
        "  CV = cross_val_score(estimator = linear, X = X_train, y = y_train, cv = 10)\n",
        "  print(\"value g = \",g)\n",
        "  print(\"media = \",CV.mean())\n",
        "  print(\"sd = \",CV.std())\n",
        "  \n",
        "  new_poly = sklearn.base.clone(poly)\n",
        "  new_poly.fit(X_train, y_train)\n",
        "  dict_KF_C_0_kf[get_ipython] = new_poly\n",
        "  new_poly_pred = new_poly.predict(X_test)\n",
        "  accuracy_lin = new_poly.score(X_test, y_test)\n",
        "  dict_model_C_pr0_kf[g]= new_poly_pred\n",
        "  print(\"Accuracy Linear Kernel (g = \",g,\") :\", accuracy_lin)\n"
      ],
      "metadata": {
        "colab": {
          "base_uri": "https://localhost:8080/"
        },
        "id": "q4n70XOHNCzn",
        "outputId": "470999be-cc1b-413e-fd29-f3c347cc7f83"
      },
      "execution_count": null,
      "outputs": [
        {
          "output_type": "stream",
          "name": "stdout",
          "text": [
            "value g =  3\n",
            "media =  1.0\n",
            "sd =  0.0\n",
            "Accuracy Linear Kernel (g =  3 ) : 0.782069157836029\n"
          ]
        }
      ]
    },
    {
      "cell_type": "code",
      "source": [
        "print(classification_report(y_test, dict_model_C_pr0_kf[3]))"
      ],
      "metadata": {
        "id": "jlHZTohkTLQi"
      },
      "execution_count": null,
      "outputs": []
    },
    {
      "cell_type": "code",
      "source": [
        "# SVM multiclase -  kernel lineal\n",
        "import sklearn\n",
        "grado = [3, 4 ,5]\n",
        "dict_KF_C_1_kf = {}\n",
        "dict_model_C_pr1_kf = {}\n",
        "\n",
        "for g in grado:\n",
        "  poly = svm.SVC(kernel='poly', degree=g, C=1, decision_function_shape='ovo')#.fit(X_train, y_train)\n",
        "  CV = cross_val_score(estimator = linear, X = X_train, y = y_train, cv = 10)\n",
        "  print(\"value g= \",g)\n",
        "  print(\"media = \",CV.mean())\n",
        "  print(\"sd = \",CV.std())\n",
        "  \n",
        "  new_poly = sklearn.base.clone(poly)\n",
        "  new_poly.fit(X_train, y_train)\n",
        "  dict_KF_C_1_kf[g] = new_poly\n",
        "  new_poly_pred = new_poly.predict(X_test)\n",
        "  accuracy_lin = new_poly.score(X_test, y_test)\n",
        "  dict_model_C_pr1_kf[g]= new_poly_pred\n",
        "  print(\"Accuracy Linear Kernel (g = \",g,\") :\", accuracy_lin)"
      ],
      "metadata": {
        "id": "TkwVFV1fOkcw"
      },
      "execution_count": null,
      "outputs": []
    },
    {
      "cell_type": "code",
      "source": [
        "print(classification_report(y_test, dict_model_C_pr1_kf[3]))"
      ],
      "metadata": {
        "colab": {
          "base_uri": "https://localhost:8080/"
        },
        "id": "OSDcfAtoNC9Q",
        "outputId": "9983f905-5aa4-42ee-f4d1-b34c91bcd1d4"
      },
      "execution_count": 53,
      "outputs": [
        {
          "output_type": "stream",
          "name": "stdout",
          "text": [
            "              precision    recall  f1-score   support\n",
            "\n",
            "           0       0.89      1.00      0.94       331\n",
            "           1       1.00      0.97      0.99       432\n",
            "           2       0.82      1.00      0.90       310\n",
            "           3       0.98      0.95      0.96       245\n",
            "           4       0.89      0.99      0.94       498\n",
            "           5       0.74      0.83      0.78       247\n",
            "           6       0.87      0.88      0.88       348\n",
            "           7       0.98      0.89      0.94       436\n",
            "           8       0.60      0.79      0.68       288\n",
            "          10       0.64      0.37      0.46       331\n",
            "          11       0.76      0.71      0.73       209\n",
            "          12       0.78      0.65      0.71       394\n",
            "          13       0.90      0.63      0.74       291\n",
            "          14       0.89      0.69      0.78       246\n",
            "          15       1.00      1.00      1.00       347\n",
            "          16       0.97      0.90      0.93       164\n",
            "          17       0.24      0.52      0.33       144\n",
            "          18       0.58      0.55      0.57       246\n",
            "          19       0.68      0.75      0.71       248\n",
            "          20       0.47      0.60      0.53       266\n",
            "          21       0.74      0.69      0.71       346\n",
            "          22       0.66      0.61      0.63       206\n",
            "          23       0.64      0.69      0.67       267\n",
            "          24       0.90      0.65      0.76       332\n",
            "\n",
            "    accuracy                           0.78      7172\n",
            "   macro avg       0.78      0.76      0.76      7172\n",
            "weighted avg       0.80      0.78      0.78      7172\n",
            "\n"
          ]
        }
      ]
    }
  ]
}